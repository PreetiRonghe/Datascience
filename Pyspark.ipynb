{
  "nbformat": 4,
  "nbformat_minor": 0,
  "metadata": {
    "colab": {
      "provenance": [],
      "authorship_tag": "ABX9TyPXbHh8o3+u4jKbQl7mrh5x",
      "include_colab_link": true
    },
    "kernelspec": {
      "name": "python3",
      "display_name": "Python 3"
    },
    "language_info": {
      "name": "python"
    }
  },
  "cells": [
    {
      "cell_type": "markdown",
      "metadata": {
        "id": "view-in-github",
        "colab_type": "text"
      },
      "source": [
        "<a href=\"https://colab.research.google.com/github/PreetiRonghe/Datascience/blob/main/Pyspark.ipynb\" target=\"_parent\"><img src=\"https://colab.research.google.com/assets/colab-badge.svg\" alt=\"Open In Colab\"/></a>"
      ]
    },
    {
      "cell_type": "code",
      "execution_count": null,
      "metadata": {
        "id": "-rORqzObkFRu"
      },
      "outputs": [],
      "source": []
    },
    {
      "cell_type": "markdown",
      "metadata": {
        "id": "03327bf1"
      },
      "source": [
        "# Task\n",
        "Write a PySpark script to process large data in Hadoop."
      ]
    },
    {
      "cell_type": "markdown",
      "metadata": {
        "id": "d3d73d0a"
      },
      "source": [
        "## Understand the data and task\n",
        "\n",
        "### Subtask:\n",
        "Define the type of data you have and the specific processing task you want to perform (e.g., cleaning, aggregation, analysis).\n"
      ]
    },
    {
      "cell_type": "markdown",
      "metadata": {
        "id": "4662a6cb"
      },
      "source": [
        "**Reasoning**:\n",
        "Define the data type and processing task based on the instructions.\n",
        "\n"
      ]
    },
    {
      "cell_type": "code",
      "metadata": {
        "colab": {
          "base_uri": "https://localhost:8080/"
        },
        "id": "3ba89132",
        "outputId": "36c42ff4-b27f-4470-9a5b-c04f7ba03159"
      },
      "source": [
        "# 1. Data Type and Structure:\n",
        "# Assume the data is stored in HDFS as Parquet files.\n",
        "# The data represents customer transactions and has the following schema:\n",
        "# - transaction_id: string\n",
        "# - customer_id: string\n",
        "# - product_id: string\n",
        "# - purchase_date: timestamp\n",
        "# - amount: double\n",
        "# - region: string\n",
        "hdfs_path = \"/user/hadoop/customer_transactions.parquet\"\n",
        "\n",
        "# 2. Specific Data Processing Task:\n",
        "# The goal is to calculate the total purchase amount per region and customer,\n",
        "# for transactions that occurred in the last year.\n",
        "# The desired output is a Parquet file with the following schema:\n",
        "# - region: string\n",
        "# - customer_id: string\n",
        "# - total_amount: double\n",
        "\n",
        "# 3. Scale and Performance:\n",
        "# The data is large (terabytes) and requires distributed processing.\n",
        "# Performance is critical, so optimizations like partitioning and caching might be considered later.\n",
        "\n",
        "print(f\"Data Path: {hdfs_path}\")\n",
        "print(\"Data Schema: transaction_id (string), customer_id (string), product_id (string), purchase_date (timestamp), amount (double), region (string)\")\n",
        "print(\"Processing Task: Calculate total purchase amount per region and customer for the last year.\")\n",
        "print(\"Output Schema: region (string), customer_id (string), total_amount (double)\")\n",
        "print(\"Data Scale: Large (terabytes)\")"
      ],
      "execution_count": 1,
      "outputs": [
        {
          "output_type": "stream",
          "name": "stdout",
          "text": [
            "Data Path: /user/hadoop/customer_transactions.parquet\n",
            "Data Schema: transaction_id (string), customer_id (string), product_id (string), purchase_date (timestamp), amount (double), region (string)\n",
            "Processing Task: Calculate total purchase amount per region and customer for the last year.\n",
            "Output Schema: region (string), customer_id (string), total_amount (double)\n",
            "Data Scale: Large (terabytes)\n"
          ]
        }
      ]
    },
    {
      "cell_type": "code",
      "source": [
        "import pyspark\n"
      ],
      "metadata": {
        "id": "OZTaahEanOhW"
      },
      "execution_count": 2,
      "outputs": []
    },
    {
      "cell_type": "markdown",
      "metadata": {
        "id": "cb961b79"
      },
      "source": [
        "## Set up hadoop/spark environment\n",
        "\n",
        "### Subtask:\n",
        "Ensure you have access to a Hadoop cluster and that Spark is configured correctly. This might involve setting up a local environment for development or using a cloud-based service.\n"
      ]
    },
    {
      "cell_type": "markdown",
      "metadata": {
        "id": "6b6a5c5b"
      },
      "source": [
        "## Write data processing code\n",
        "\n",
        "### Subtask:\n",
        "Write the code for your data processing logic using a framework like PySpark, which allows you to interact with Spark using Python.\n"
      ]
    },
    {
      "cell_type": "markdown",
      "metadata": {
        "id": "02a27374"
      },
      "source": [
        "**Reasoning**:\n",
        "Import necessary PySpark modules, create a SparkSession, read the data, filter by date, group, aggregate, select columns, and show a sample of the result.\n",
        "\n"
      ]
    }
  ]
}