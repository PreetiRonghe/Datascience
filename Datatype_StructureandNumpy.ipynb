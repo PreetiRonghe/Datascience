{
  "nbformat": 4,
  "nbformat_minor": 0,
  "metadata": {
    "colab": {
      "provenance": [],
      "authorship_tag": "ABX9TyO+Bg+pSWZraByWK9YlVsrs",
      "include_colab_link": true
    },
    "kernelspec": {
      "name": "python3",
      "display_name": "Python 3"
    },
    "language_info": {
      "name": "python"
    }
  },
  "cells": [
    {
      "cell_type": "markdown",
      "metadata": {
        "id": "view-in-github",
        "colab_type": "text"
      },
      "source": [
        "<a href=\"https://colab.research.google.com/github/PreetiRonghe/Datascience/blob/main/Datatype_StructureandNumpy.ipynb\" target=\"_parent\"><img src=\"https://colab.research.google.com/assets/colab-badge.svg\" alt=\"Open In Colab\"/></a>"
      ]
    },
    {
      "cell_type": "code",
      "execution_count": 4,
      "metadata": {
        "colab": {
          "base_uri": "https://localhost:8080/"
        },
        "id": "9t4e8x6cODqD",
        "outputId": "220d8101-c335-4c98-ce68-45280cc1b634"
      },
      "outputs": [
        {
          "output_type": "stream",
          "name": "stdout",
          "text": [
            "x<y\n"
          ]
        }
      ],
      "source": [
        "x=10\n",
        "y=12\n",
        "if(x>y):\n",
        "    print(\"x>y\")\n",
        "elif(x<y):\n",
        "    print(\"x<y\")\n",
        "else:\n",
        "    print(\"x=y\")"
      ]
    },
    {
      "cell_type": "code",
      "source": [
        "numbers = range(1,6)\n",
        "for i in numbers:\n",
        "    print(i)"
      ],
      "metadata": {
        "colab": {
          "base_uri": "https://localhost:8080/"
        },
        "id": "bI4ZCTv-Oo2H",
        "outputId": "eab44580-a298-4324-e006-0934e62879d8"
      },
      "execution_count": 7,
      "outputs": [
        {
          "output_type": "stream",
          "name": "stdout",
          "text": [
            "1\n",
            "2\n",
            "3\n",
            "4\n",
            "5\n"
          ]
        }
      ]
    },
    {
      "cell_type": "code",
      "source": [
        "stars = range(1,7)\n",
        "for i in stars:\n",
        "    print(\"*\" * i)"
      ],
      "metadata": {
        "colab": {
          "base_uri": "https://localhost:8080/"
        },
        "id": "xkvRagapPT8G",
        "outputId": "22df655b-3b86-4fe5-8ae9-e311e7775cd2"
      },
      "execution_count": 18,
      "outputs": [
        {
          "output_type": "stream",
          "name": "stdout",
          "text": [
            "*\n",
            "**\n",
            "***\n",
            "****\n",
            "*****\n",
            "******\n"
          ]
        }
      ]
    },
    {
      "cell_type": "code",
      "source": [
        "i=0\n",
        "while (i<5):\n",
        "    print(i)\n",
        "    i=i+1"
      ],
      "metadata": {
        "colab": {
          "base_uri": "https://localhost:8080/"
        },
        "id": "D2SretKAQfmr",
        "outputId": "614c5288-1e20-403c-eb0a-1f5891945428"
      },
      "execution_count": 23,
      "outputs": [
        {
          "output_type": "stream",
          "name": "stdout",
          "text": [
            "0\n",
            "1\n",
            "2\n",
            "3\n",
            "4\n"
          ]
        }
      ]
    },
    {
      "cell_type": "code",
      "source": [
        "def addElements(a,b,c):\n",
        "  return (a+b+c)\n",
        "result= addElements (1,2,3)\n",
        "print(result)\n",
        "\n"
      ],
      "metadata": {
        "colab": {
          "base_uri": "https://localhost:8080/"
        },
        "id": "wyAKsWBiRUsE",
        "outputId": "657d82d8-5b39-4334-da5a-23029861f7c6"
      },
      "execution_count": 31,
      "outputs": [
        {
          "output_type": "stream",
          "name": "stdout",
          "text": [
            "6\n"
          ]
        }
      ]
    },
    {
      "cell_type": "code",
      "source": [
        "def multiplyElements(a,b,c):\n",
        "  return (a*b*c)\n",
        "result= multiplyElements (5,2,3)\n",
        "print(result)\n"
      ],
      "metadata": {
        "colab": {
          "base_uri": "https://localhost:8080/"
        },
        "id": "oURRrX6ASPu8",
        "outputId": "1099285c-b332-418c-d0f7-868aeffd4a11"
      },
      "execution_count": 32,
      "outputs": [
        {
          "output_type": "stream",
          "name": "stdout",
          "text": [
            "30\n"
          ]
        }
      ]
    },
    {
      "cell_type": "code",
      "source": [
        "i=0\n",
        "while (i<5):\n",
        "    print(i,\"*i\")\n",
        "    i=i+1"
      ],
      "metadata": {
        "colab": {
          "base_uri": "https://localhost:8080/"
        },
        "id": "A8DJw0gQSzZ4",
        "outputId": "9df64a0d-5eeb-4113-d443-acb3a0741ed0"
      },
      "execution_count": 33,
      "outputs": [
        {
          "output_type": "stream",
          "name": "stdout",
          "text": [
            "0 *i\n",
            "1 *i\n",
            "2 *i\n",
            "3 *i\n",
            "4 *i\n"
          ]
        }
      ]
    },
    {
      "cell_type": "code",
      "source": [
        "def addElements(a,b,c):\n",
        "  return (a+b+c)\n",
        "result= addElements (\"dontbuy\",\"thing\",\"!\")\n",
        "print(result)\n",
        "\n",
        "def addElements(a, b, c):\n",
        "  return (a+b+c)\n",
        "  a=\"hi!\"\n",
        "result= addElements (\"\",\"dontbuy\",\"anything\")\n",
        "print(result)\n",
        "\n",
        "def addElements(a=\"HiHello!\",b,c):\n",
        "  return (a+b+c)\n",
        "result= addElements(\"\",\"dontbuy\",\"anything\")\n",
        "print(result)"
      ],
      "metadata": {
        "colab": {
          "base_uri": "https://localhost:8080/",
          "height": 106
        },
        "id": "o4JnB-nsTIaw",
        "outputId": "a7188e9f-fa8a-4f0b-83cf-d8f765e281fd"
      },
      "execution_count": 163,
      "outputs": [
        {
          "output_type": "error",
          "ename": "SyntaxError",
          "evalue": "non-default argument follows default argument (ipython-input-163-1333557864.py, line 12)",
          "traceback": [
            "\u001b[0;36m  File \u001b[0;32m\"/tmp/ipython-input-163-1333557864.py\"\u001b[0;36m, line \u001b[0;32m12\u001b[0m\n\u001b[0;31m    def addElements(a=\"HiHello!\",b,c):\u001b[0m\n\u001b[0m                                 ^\u001b[0m\n\u001b[0;31mSyntaxError\u001b[0m\u001b[0;31m:\u001b[0m non-default argument follows default argument\n"
          ]
        }
      ]
    },
    {
      "cell_type": "code",
      "source": [
        "batsmen =['Rohit','shikar',5,'Virat','pandya',10.5]\n",
        "batsmen\n",
        "type(batsmen)\n",
        "# indexing always starts from Zero\n",
        "batsmen[0]\n",
        "#this returns elements starting from 0 and then 2 elements\n",
        "batsmen[0:2]\n",
        "#returns lenght of batsmen\n",
        "len(batsmen)"
      ],
      "metadata": {
        "colab": {
          "base_uri": "https://localhost:8080/"
        },
        "id": "ml2u11JhUI31",
        "outputId": "c74208fe-bf30-400c-89de-b9fc516c1ab6"
      },
      "execution_count": 75,
      "outputs": [
        {
          "output_type": "execute_result",
          "data": {
            "text/plain": [
              "6"
            ]
          },
          "metadata": {},
          "execution_count": 75
        }
      ]
    },
    {
      "cell_type": "code",
      "source": [
        "bowlers =['Bumbhra','jadeja','chahal']\n",
        "len(bowlers)\n",
        "# Insert 'cherry' at index 1\n",
        "#my_list.insert(1, 'cherry')\n",
        "bowlers.insert(1,'kuldeep')\n",
        "bowlers\n",
        "# Fix: Use append to add an element to the end of the list\n",
        "bowlers.append('kumble')\n",
        "team=batsmen+bowlers\n",
        "print(team)"
      ],
      "metadata": {
        "colab": {
          "base_uri": "https://localhost:8080/"
        },
        "id": "fLVO1qoyVkQS",
        "outputId": "2e56a78d-e2f4-4272-b8eb-e39505c84b41"
      },
      "execution_count": 139,
      "outputs": [
        {
          "output_type": "stream",
          "name": "stdout",
          "text": [
            "['Rohit', 'shikar', 5, 'Virat', 'pandya', 10.5, 'Bumbhra', 'kuldeep', 'jadeja', 'chahal', 'kumble']\n"
          ]
        }
      ]
    },
    {
      "cell_type": "code",
      "source": [
        "'Rohit' in bowlers\n",
        "'Rohit' in team"
      ],
      "metadata": {
        "colab": {
          "base_uri": "https://localhost:8080/"
        },
        "id": "IDZkPLXwV8Yv",
        "outputId": "eb86d5a2-c130-446f-a97b-dc61e8ab78ce"
      },
      "execution_count": 77,
      "outputs": [
        {
          "output_type": "execute_result",
          "data": {
            "text/plain": [
              "True"
            ]
          },
          "metadata": {},
          "execution_count": 77
        }
      ]
    },
    {
      "cell_type": "code",
      "source": [
        "odiDebut= ('Kohli',2008)\n",
        "odiDebut[0]\n",
        "odiDebut[1]=2009"
      ],
      "metadata": {
        "colab": {
          "base_uri": "https://localhost:8080/",
          "height": 176
        },
        "id": "IzgeTLoGWaGE",
        "outputId": "eb4d5921-93c9-494c-b134-11a1943a447c"
      },
      "execution_count": 78,
      "outputs": [
        {
          "output_type": "error",
          "ename": "TypeError",
          "evalue": "'tuple' object does not support item assignment",
          "traceback": [
            "\u001b[0;31m---------------------------------------------------------------------------\u001b[0m",
            "\u001b[0;31mTypeError\u001b[0m                                 Traceback (most recent call last)",
            "\u001b[0;32m/tmp/ipython-input-78-3613693027.py\u001b[0m in \u001b[0;36m<cell line: 0>\u001b[0;34m()\u001b[0m\n\u001b[1;32m      1\u001b[0m \u001b[0modiDebut\u001b[0m\u001b[0;34m=\u001b[0m \u001b[0;34m(\u001b[0m\u001b[0;34m'Kohli'\u001b[0m\u001b[0;34m,\u001b[0m\u001b[0;36m2008\u001b[0m\u001b[0;34m)\u001b[0m\u001b[0;34m\u001b[0m\u001b[0;34m\u001b[0m\u001b[0m\n\u001b[1;32m      2\u001b[0m \u001b[0modiDebut\u001b[0m\u001b[0;34m[\u001b[0m\u001b[0;36m0\u001b[0m\u001b[0;34m]\u001b[0m\u001b[0;34m\u001b[0m\u001b[0;34m\u001b[0m\u001b[0m\n\u001b[0;32m----> 3\u001b[0;31m \u001b[0modiDebut\u001b[0m\u001b[0;34m[\u001b[0m\u001b[0;36m1\u001b[0m\u001b[0;34m]\u001b[0m\u001b[0;34m=\u001b[0m\u001b[0;36m2009\u001b[0m\u001b[0;34m\u001b[0m\u001b[0;34m\u001b[0m\u001b[0m\n\u001b[0m",
            "\u001b[0;31mTypeError\u001b[0m: 'tuple' object does not support item assignment"
          ]
        }
      ]
    },
    {
      "cell_type": "code",
      "source": [
        "setOfNumbers={4,5,3,1,9,10}\n",
        "type(setOfNumbers)\n",
        "print(setOfNumbers)\n",
        "setOfNumbers_1={4,5,3,1,9,7,8,10,10}\n",
        "print(setOfNumbers_1)\n",
        "setOfNumbers.union(setOfNumbers_1)\n",
        "setOfNumbers.intersection(setOfNumbers_1)\n",
        "setOfNumbers.difference(setOfNumbers_1)\n",
        "setOfNumbers_1.difference(setOfNumbers)"
      ],
      "metadata": {
        "colab": {
          "base_uri": "https://localhost:8080/"
        },
        "id": "rqrmHtAhW-iS",
        "outputId": "cbd81634-cc83-4097-f76a-4ac9d4f7a65d"
      },
      "execution_count": 79,
      "outputs": [
        {
          "output_type": "stream",
          "name": "stdout",
          "text": [
            "{1, 3, 4, 5, 9, 10}\n",
            "{1, 3, 4, 5, 7, 8, 9, 10}\n"
          ]
        },
        {
          "output_type": "execute_result",
          "data": {
            "text/plain": [
              "{7, 8}"
            ]
          },
          "metadata": {},
          "execution_count": 79
        }
      ]
    },
    {
      "cell_type": "code",
      "source": [
        "studentsClass={1:\"Preeti\",\n",
        "               10:\"Fatima\",\n",
        "               2:\"Shrilu\",\n",
        "               3:\"Himnagi\",\n",
        "               4:\"Lakshya\",\n",
        "               6:\"Manish\",\n",
        "               7:\"Nitin\",\n",
        "               8:\"Shruti\"}\n",
        "type(studentsClass)\n",
        "studentsClass.keys\n",
        "studentsClass.keys()\n",
        "studentsClass.values()\n",
        "studentsClass[3]\n",
        "studentsClass[9]"
      ],
      "metadata": {
        "colab": {
          "base_uri": "https://localhost:8080/",
          "height": 176
        },
        "id": "7venoRYeY_8a",
        "outputId": "006fb7c5-f498-4741-ff2b-e08d384d010d"
      },
      "execution_count": 133,
      "outputs": [
        {
          "output_type": "error",
          "ename": "KeyError",
          "evalue": "9",
          "traceback": [
            "\u001b[0;31m---------------------------------------------------------------------------\u001b[0m",
            "\u001b[0;31mKeyError\u001b[0m                                  Traceback (most recent call last)",
            "\u001b[0;32m/tmp/ipython-input-133-1932710912.py\u001b[0m in \u001b[0;36m<cell line: 0>\u001b[0;34m()\u001b[0m\n\u001b[1;32m     12\u001b[0m \u001b[0mstudentsClass\u001b[0m\u001b[0;34m.\u001b[0m\u001b[0mvalues\u001b[0m\u001b[0;34m(\u001b[0m\u001b[0;34m)\u001b[0m\u001b[0;34m\u001b[0m\u001b[0;34m\u001b[0m\u001b[0m\n\u001b[1;32m     13\u001b[0m \u001b[0mstudentsClass\u001b[0m\u001b[0;34m[\u001b[0m\u001b[0;36m3\u001b[0m\u001b[0;34m]\u001b[0m\u001b[0;34m\u001b[0m\u001b[0;34m\u001b[0m\u001b[0m\n\u001b[0;32m---> 14\u001b[0;31m \u001b[0mstudentsClass\u001b[0m\u001b[0;34m[\u001b[0m\u001b[0;36m9\u001b[0m\u001b[0;34m]\u001b[0m\u001b[0;34m\u001b[0m\u001b[0;34m\u001b[0m\u001b[0m\n\u001b[0m",
            "\u001b[0;31mKeyError\u001b[0m: 9"
          ]
        }
      ]
    },
    {
      "cell_type": "code",
      "source": [
        "#this will return the last element\n",
        "batsmen[-1]"
      ],
      "metadata": {
        "colab": {
          "base_uri": "https://localhost:8080/"
        },
        "id": "S8Agv6KHa5KY",
        "outputId": "3b430584-a59e-4c4b-dcf0-7b6ff8f43e1c"
      },
      "execution_count": 85,
      "outputs": [
        {
          "output_type": "execute_result",
          "data": {
            "text/plain": [
              "10.5"
            ]
          },
          "metadata": {},
          "execution_count": 85
        }
      ]
    },
    {
      "cell_type": "code",
      "source": [
        "import numpy as np\n",
        "a = np.array([1,2,3,4,5,6,7,8,9,0,11])\n",
        "type(a)"
      ],
      "metadata": {
        "colab": {
          "base_uri": "https://localhost:8080/"
        },
        "id": "9Nzfp6WCdiyj",
        "outputId": "3385f3f0-1841-4b75-b1bd-3794466ebbfd"
      },
      "execution_count": 92,
      "outputs": [
        {
          "output_type": "execute_result",
          "data": {
            "text/plain": [
              "numpy.ndarray"
            ]
          },
          "metadata": {},
          "execution_count": 92
        }
      ]
    },
    {
      "cell_type": "code",
      "source": [
        "a.shape"
      ],
      "metadata": {
        "colab": {
          "base_uri": "https://localhost:8080/"
        },
        "id": "nBPJZgqpd7JM",
        "outputId": "c882690d-6fba-4ba3-d461-04cb2942f76a"
      },
      "execution_count": 90,
      "outputs": [
        {
          "output_type": "execute_result",
          "data": {
            "text/plain": [
              "(11,)"
            ]
          },
          "metadata": {},
          "execution_count": 90
        }
      ]
    },
    {
      "cell_type": "code",
      "source": [
        "a.size"
      ],
      "metadata": {
        "colab": {
          "base_uri": "https://localhost:8080/"
        },
        "id": "70loDW2OeBJG",
        "outputId": "b29441c4-8805-4764-a731-666fd8f12fcc"
      },
      "execution_count": 91,
      "outputs": [
        {
          "output_type": "execute_result",
          "data": {
            "text/plain": [
              "11"
            ]
          },
          "metadata": {},
          "execution_count": 91
        }
      ]
    },
    {
      "cell_type": "code",
      "source": [
        "b = np.array([[1,2,3,4,5,6],[7,8,9,0,11,8]])"
      ],
      "metadata": {
        "id": "wFgnLBYLeHn1"
      },
      "execution_count": 96,
      "outputs": []
    },
    {
      "cell_type": "code",
      "source": [
        "type(b)"
      ],
      "metadata": {
        "colab": {
          "base_uri": "https://localhost:8080/"
        },
        "id": "QllrKuoMeZdK",
        "outputId": "c2eb5411-32f1-4b23-8a2d-8256c7dde317"
      },
      "execution_count": 98,
      "outputs": [
        {
          "output_type": "execute_result",
          "data": {
            "text/plain": [
              "numpy.ndarray"
            ]
          },
          "metadata": {},
          "execution_count": 98
        }
      ]
    },
    {
      "cell_type": "code",
      "source": [
        "b"
      ],
      "metadata": {
        "colab": {
          "base_uri": "https://localhost:8080/"
        },
        "id": "JWkCwfzQeeWr",
        "outputId": "0ef8f329-1e5f-4938-e797-360be762ee4c"
      },
      "execution_count": 100,
      "outputs": [
        {
          "output_type": "execute_result",
          "data": {
            "text/plain": [
              "array([[ 1,  2,  3,  4,  5,  6],\n",
              "       [ 7,  8,  9,  0, 11,  8]])"
            ]
          },
          "metadata": {},
          "execution_count": 100
        }
      ]
    },
    {
      "cell_type": "code",
      "source": [
        "b.size"
      ],
      "metadata": {
        "colab": {
          "base_uri": "https://localhost:8080/"
        },
        "id": "vfVJDUPpef0s",
        "outputId": "46c4bf7b-d4d0-4c0d-da83-46d368b01a1f"
      },
      "execution_count": 102,
      "outputs": [
        {
          "output_type": "execute_result",
          "data": {
            "text/plain": [
              "12"
            ]
          },
          "metadata": {},
          "execution_count": 102
        }
      ]
    },
    {
      "cell_type": "markdown",
      "source": [],
      "metadata": {
        "id": "Xexr54UvfG4x"
      }
    },
    {
      "cell_type": "code",
      "source": [
        "b.shape"
      ],
      "metadata": {
        "colab": {
          "base_uri": "https://localhost:8080/"
        },
        "id": "32_sgyAIeiXr",
        "outputId": "5481ff2a-1576-4d70-d971-93ee48c69fab"
      },
      "execution_count": 106,
      "outputs": [
        {
          "output_type": "execute_result",
          "data": {
            "text/plain": [
              "(2, 6)"
            ]
          },
          "metadata": {},
          "execution_count": 106
        }
      ]
    },
    {
      "cell_type": "code",
      "source": [
        "b[0]"
      ],
      "metadata": {
        "colab": {
          "base_uri": "https://localhost:8080/"
        },
        "id": "sLK_wEoZfNKl",
        "outputId": "bde7e0e2-b21b-45d8-c18d-e0591fd7e6b5"
      },
      "execution_count": 107,
      "outputs": [
        {
          "output_type": "execute_result",
          "data": {
            "text/plain": [
              "array([1, 2, 3, 4, 5, 6])"
            ]
          },
          "metadata": {},
          "execution_count": 107
        }
      ]
    },
    {
      "cell_type": "code",
      "source": [
        "b[0][0]"
      ],
      "metadata": {
        "colab": {
          "base_uri": "https://localhost:8080/"
        },
        "id": "GRFnJoO0fR9m",
        "outputId": "4ace9f12-7825-4e4c-b395-d24aee1c24ba"
      },
      "execution_count": 109,
      "outputs": [
        {
          "output_type": "execute_result",
          "data": {
            "text/plain": [
              "np.int64(1)"
            ]
          },
          "metadata": {},
          "execution_count": 109
        }
      ]
    },
    {
      "cell_type": "code",
      "source": [
        "#Row-->6;Column-->2\n",
        "c=b.reshape(6,2)"
      ],
      "metadata": {
        "id": "pn6E_maYfWBQ"
      },
      "execution_count": 112,
      "outputs": []
    },
    {
      "cell_type": "code",
      "source": [
        "c"
      ],
      "metadata": {
        "colab": {
          "base_uri": "https://localhost:8080/"
        },
        "id": "5EZOWIb1fmwS",
        "outputId": "c0b97331-3a98-4886-d7fd-376fe0481c9f"
      },
      "execution_count": 114,
      "outputs": [
        {
          "output_type": "execute_result",
          "data": {
            "text/plain": [
              "array([[ 1,  2],\n",
              "       [ 3,  4],\n",
              "       [ 5,  6],\n",
              "       [ 7,  8],\n",
              "       [ 9,  0],\n",
              "       [11,  8]])"
            ]
          },
          "metadata": {},
          "execution_count": 114
        }
      ]
    },
    {
      "cell_type": "code",
      "source": [
        "print(a.sum())\n",
        "print(a.min())\n",
        "print(a.max())\n",
        "print(a.mean())\n",
        "print(a.prod())"
      ],
      "metadata": {
        "colab": {
          "base_uri": "https://localhost:8080/"
        },
        "id": "IeiJF-vVf3cp",
        "outputId": "6f2c00d1-ba38-430a-cd3b-b0067aa4ab4c"
      },
      "execution_count": 123,
      "outputs": [
        {
          "output_type": "stream",
          "name": "stdout",
          "text": [
            "56\n",
            "0\n",
            "11\n",
            "5.090909090909091\n",
            "0\n"
          ]
        }
      ]
    },
    {
      "cell_type": "code",
      "source": [
        "b"
      ],
      "metadata": {
        "colab": {
          "base_uri": "https://localhost:8080/"
        },
        "id": "mxWsLH7OgBlT",
        "outputId": "3a5cbc37-af4e-4fab-8be5-d4f91c5108f4"
      },
      "execution_count": 119,
      "outputs": [
        {
          "output_type": "execute_result",
          "data": {
            "text/plain": [
              "array([[ 1,  2,  3,  4,  5,  6],\n",
              "       [ 7,  8,  9,  0, 11,  8]])"
            ]
          },
          "metadata": {},
          "execution_count": 119
        }
      ]
    },
    {
      "cell_type": "code",
      "source": [
        "#gives sum of row values\n",
        "b.sum(axis=0)"
      ],
      "metadata": {
        "colab": {
          "base_uri": "https://localhost:8080/"
        },
        "id": "uLco5JX2gTGr",
        "outputId": "0bb05ee9-6d76-424f-9f8e-5f6029038032"
      },
      "execution_count": 121,
      "outputs": [
        {
          "output_type": "execute_result",
          "data": {
            "text/plain": [
              "array([ 8, 10, 12,  4, 16, 14])"
            ]
          },
          "metadata": {},
          "execution_count": 121
        }
      ]
    },
    {
      "cell_type": "code",
      "source": [
        "#gives columns sum values\n",
        "b.sum(axis=1)"
      ],
      "metadata": {
        "colab": {
          "base_uri": "https://localhost:8080/"
        },
        "id": "zggo6qwMgwsW",
        "outputId": "fbc77b4c-b7ac-489c-9284-1d465de00b9c"
      },
      "execution_count": 124,
      "outputs": [
        {
          "output_type": "execute_result",
          "data": {
            "text/plain": [
              "array([21, 43])"
            ]
          },
          "metadata": {},
          "execution_count": 124
        }
      ]
    },
    {
      "cell_type": "code",
      "source": [
        "import math\n",
        "num =16\n",
        "sqrt_num =math.sqrt(num)\n",
        "print(sqrt_num)\n",
        "a=6.5\n",
        "floor_num =math.floor(a)\n",
        "print(floor_num)\n",
        "ceil_num=math.ceil(a)\n",
        "print(ceil_num)\n",
        "b=4\n",
        "# Corrected function name: math.factorial()\n",
        "num_fact =math.factorial(b)\n",
        "print(num_fact)"
      ],
      "metadata": {
        "colab": {
          "base_uri": "https://localhost:8080/"
        },
        "id": "mLnBVmVdibhl",
        "outputId": "c3012e35-531b-472b-e3d7-6f6d9ada6eae"
      },
      "execution_count": 131,
      "outputs": [
        {
          "output_type": "stream",
          "name": "stdout",
          "text": [
            "4.0\n",
            "6\n",
            "7\n",
            "24\n"
          ]
        }
      ]
    }
  ]
}