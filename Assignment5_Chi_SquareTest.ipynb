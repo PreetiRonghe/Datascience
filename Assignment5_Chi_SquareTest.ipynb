{
  "nbformat": 4,
  "nbformat_minor": 0,
  "metadata": {
    "colab": {
      "provenance": [],
      "authorship_tag": "ABX9TyMFqSOivvPi3Mv9jDaPheie",
      "include_colab_link": true
    },
    "kernelspec": {
      "name": "python3",
      "display_name": "Python 3"
    },
    "language_info": {
      "name": "python"
    }
  },
  "cells": [
    {
      "cell_type": "markdown",
      "metadata": {
        "id": "view-in-github",
        "colab_type": "text"
      },
      "source": [
        "<a href=\"https://colab.research.google.com/github/PreetiRonghe/Datascience/blob/main/Assignment5_Chi_SquareTest.ipynb\" target=\"_parent\"><img src=\"https://colab.research.google.com/assets/colab-badge.svg\" alt=\"Open In Colab\"/></a>"
      ]
    },
    {
      "cell_type": "markdown",
      "source": [
        "Chi-Square Test"
      ],
      "metadata": {
        "id": "lRexw7_SQPd9"
      }
    },
    {
      "cell_type": "code",
      "metadata": {
        "colab": {
          "base_uri": "https://localhost:8080/"
        },
        "id": "6de378e9",
        "outputId": "8042681d-da88-4c5e-cadd-85545fda47f7"
      },
      "source": [
        "import pandas as pd\n",
        "import scipy.stats as stats\n",
        "#There's a significant association between the type of smart home device purchased (Smart Thermostats vs. Smart Lights) and the customer satisfaction level.\n",
        "#Stating the Hypothesis\n",
        "#H0: There's a significant association between the type of smart home device purchased and Customer staisfaction\n",
        "#H1: There's no significant association between the type of smart home device purchased and customer satisfaction\n",
        "\n",
        "# Reading the data in the contigency table format\n",
        "# Use index_col=0 to treat the first column as the row index (Device Type Smart Thermostat)\n",
        "contingency_table_df = pd.read_csv('Customer_Satisfaction.csv', index_col=0)\n",
        "\n",
        "# Display the loaded contingency table\n",
        "print(\"Loaded Contingency Table:\\n\",contingency_table_df)\n",
        "\n",
        "#Compute the Chi-Square Statistic:\n",
        "chi2_statistic, p_value, degrees_of_freedom,expected_frequencies = stats.chi2_contingency(contingency_table_df)\n",
        "\n",
        "alpha = 0.05\n",
        "# Calculate the critical value\n",
        "critical_value = stats.chi2.ppf(1 - alpha, degrees_of_freedom)\n",
        "#Printing the results for the Chi-Square Statistic:\n",
        "print(f\"\\nChi-Square Statistic: {chi2_statistic}\")\n",
        "print(f\"P-value: {p_value}\")\n",
        "print(f\"Degrees of Freedom: {degrees_of_freedom}\")\n",
        "print(f\"Critical Value: {critical_value}\")\n",
        "\n",
        "#1.Interpret the results\n",
        "print(f\"\\nSignificance Level (alpha): {alpha}\")\n",
        "if p_value < alpha:\n",
        "    print(\"Result: Accept Alternate hypothesis (H1). There is no significant association between Device Type and Customer Satisfaction.\")\n",
        "else:\n",
        "    print(\"Result: Accept the null hypothesis (H0). There is a significant association between Device Type and Customer Satisfaction.\")\n",
        "\n",
        "#2.Interpret the results\n",
        "print(f\"\\nChi-Square Statistic: {chi2_statistic}\")\n",
        "if chi2_statistic > critical_value:\n",
        "    print(\"Result: Accept Alternate hypothesis (H1). There is no significant association between Device Type and Customer Satisfaction.\")\n",
        "else:\n",
        "    print(\"Result: Accept the null hypothesis (H0). There is a significant association between Device Type and Customer Satisfaction.\")"
      ],
      "execution_count": 12,
      "outputs": [
        {
          "output_type": "stream",
          "name": "stdout",
          "text": [
            "Loaded Contingency Table:\n",
            "                   Smart Thermostat  Smart Light  Total\n",
            "Satisfaction                                          \n",
            "Very Satisfied                  50           70    120\n",
            "Satisfied                       80          100    180\n",
            "Neutral                         60           90    150\n",
            "Unsatisfied                     30           50     80\n",
            "Very Unsatisfied                20           50     70\n",
            "Total                          240          360    600\n",
            "\n",
            "Chi-Square Statistic: 5.638227513227513\n",
            "P-value: 0.8446871739958809\n",
            "Degrees of Freedom: 10\n",
            "Critical Value: 18.307038053275146\n",
            "\n",
            "Significance Level (alpha): 0.05\n",
            "Result: Accept the null hypothesis (H0). There is a significant association between Device Type and Customer Satisfaction.\n",
            "\n",
            "Chi-Square Statistic: 5.638227513227513\n",
            "Result: Accept the null hypothesis (H0). There is a significant association between Device Type and Customer Satisfaction.\n"
          ]
        }
      ]
    }
  ]
}