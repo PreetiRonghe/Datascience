{
  "nbformat": 4,
  "nbformat_minor": 0,
  "metadata": {
    "colab": {
      "provenance": [],
      "authorship_tag": "ABX9TyPwTBnwpSHr/y4rdVQaQTNu",
      "include_colab_link": true
    },
    "kernelspec": {
      "name": "python3",
      "display_name": "Python 3"
    },
    "language_info": {
      "name": "python"
    }
  },
  "cells": [
    {
      "cell_type": "markdown",
      "metadata": {
        "id": "view-in-github",
        "colab_type": "text"
      },
      "source": [
        "<a href=\"https://colab.research.google.com/github/PreetiRonghe/Datascience/blob/main/Assignment4_Hypothesis_Testing.ipynb\" target=\"_parent\"><img src=\"https://colab.research.google.com/assets/colab-badge.svg\" alt=\"Open In Colab\"/></a>"
      ]
    },
    {
      "cell_type": "code",
      "execution_count": 17,
      "metadata": {
        "colab": {
          "base_uri": "https://localhost:8080/"
        },
        "id": "mG7Cz7iofxnO",
        "outputId": "6791599a-01c8-4f5d-f708-063b2a09877b"
      },
      "outputs": [
        {
          "output_type": "stream",
          "name": "stdout",
          "text": [
            "t_statistical= -38.0\n",
            "t_critical= 1.7108820799094275\n",
            "Accept the null hypothesis.\n",
            "The operating cost is accurate, i.e W = $1,000 + $5X\n"
          ]
        }
      ],
      "source": [
        "import scipy.stats as stats\n",
        "import math\n",
        "\n",
        "#1. State the Hypotheses statement:\n",
        "#H0: The Operating cost is accurate. W = $1,000 + $5X\n",
        "#H1: The Operating cost is inaccurate. W > $1,000 + $5X\n",
        "#The operating cost for a franchise in a week (W) is given by the equation W = $1,000 + $5X, where X represents the number of units produced in a week.\n",
        "\n",
        "#2. Calculate the Test Statistic:\n",
        "sample_size = 25\n",
        "sample_mean = 3050\n",
        "population_mean = 4000\n",
        "population_std_dev = 125\n",
        "\n",
        "t_statistic = (sample_mean - population_mean) / (population_std_dev / math.sqrt(sample_size))\n",
        "print(\"t_statistical=\",t_statistic)\n",
        "\n",
        "#3.Determine the Critical Value\n",
        "alpha = 0.05\n",
        "degrees_of_freedom = sample_size - 1\n",
        "critical_value = stats.t.ppf(1 - alpha, degrees_of_freedom)\n",
        "print(\"t_critical=\",critical_value)\n",
        "\n",
        "#4. Make a Decision\n",
        "if t_statistic > critical_value:\n",
        "    print(\"Reject the null hypothesis. The operating cost is inaccurate.\")\n",
        "else:\n",
        "    print(\"Accept the null hypothesis.\\nThe operating cost is accurate, i.e W = $1,000 + $5X\")\n",
        "\n",
        "#5. Conclusion:\n",
        "#Not sure what was expected here?\n"
      ]
    },
    {
      "cell_type": "markdown",
      "source": [
        "Steps for Hypothesis Testing\n",
        "1. Define Null and Alternate Hypothesis.\n",
        "2. Identify the statistical test to be used for testing the validity of the Null Hypothesis, Example Z-test or T-test.\n",
        "3. Decide the significance value(Alpha). Typical value used for Alpha is 0.05.\n",
        "4. Calculate the p-value(probability value), which is conditional probability of observing the test statistical value when the null hypothesis is true. We will use the functions provided in scipy.stats module for calculating the p-value.\n",
        "5. take the decision to reject or retain is based on the p value and the significance value of Alpha.\n",
        "6. Use a T-test for small sample sizes or when the population variance is unknown, and a Z-test for large sample sizes with known population variance."
      ],
      "metadata": {
        "id": "5EoFXpEyfyVq"
      }
    }
  ]
}