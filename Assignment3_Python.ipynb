{
  "nbformat": 4,
  "nbformat_minor": 0,
  "metadata": {
    "colab": {
      "provenance": [],
      "authorship_tag": "ABX9TyMl3/nGTTj6wp8uAj9NFb+Z",
      "include_colab_link": true
    },
    "kernelspec": {
      "name": "python3",
      "display_name": "Python 3"
    },
    "language_info": {
      "name": "python"
    }
  },
  "cells": [
    {
      "cell_type": "markdown",
      "metadata": {
        "id": "view-in-github",
        "colab_type": "text"
      },
      "source": [
        "<a href=\"https://colab.research.google.com/github/PreetiRonghe/Datascience/blob/main/Assignment3_Python.ipynb\" target=\"_parent\"><img src=\"https://colab.research.google.com/assets/colab-badge.svg\" alt=\"Open In Colab\"/></a>"
      ]
    },
    {
      "cell_type": "markdown",
      "source": [
        "Excercise 1: Prime Numbers"
      ],
      "metadata": {
        "id": "4AEwzWeYs7JO"
      }
    },
    {
      "cell_type": "code",
      "execution_count": 42,
      "metadata": {
        "colab": {
          "base_uri": "https://localhost:8080/"
        },
        "id": "MqHlDTe9s04S",
        "outputId": "8c309f82-f18c-449f-e6bc-234e78b98dc1"
      },
      "outputs": [
        {
          "output_type": "stream",
          "name": "stdout",
          "text": [
            "Enter the Number: 2\n",
            "2 is a prime number\n"
          ]
        }
      ],
      "source": [
        "num_str = input(\"Enter the Number: \")\n",
        "#Defining function to check if n is prime\n",
        "def is_prime(n):\n",
        "    # Prime numbers are greater than 1\n",
        "    if n <= 1:\n",
        "        return False\n",
        "    # Check for factors from 2 up to the square root of n\n",
        "    i = 2\n",
        "    while i * i <= n:\n",
        "        if n % i == 0:\n",
        "            return False # Found a factor, so not prime\n",
        "        i += 1\n",
        "    return True # No factors found, so it's prime\n",
        "\n",
        "try:\n",
        "    num = int(num_str)\n",
        "\n",
        "    if is_prime(num):\n",
        "        print(f\"{num} is a prime number\")\n",
        "    else:\n",
        "        print(f\"{num} is not a prime number\")\n",
        "\n",
        "except ValueError:\n",
        "    print(\"Invalid input. Please enter an integer.\")"
      ]
    },
    {
      "cell_type": "markdown",
      "source": [
        "Product of Random Numbers"
      ],
      "metadata": {
        "id": "5wTfrSuBBIMH"
      }
    },
    {
      "cell_type": "code",
      "metadata": {
        "colab": {
          "base_uri": "https://localhost:8080/"
        },
        "id": "741415f3",
        "outputId": "7e3064d2-5ce7-4eed-9f26-ae54ed683e51"
      },
      "source": [
        "import random\n",
        "\n",
        "# Generate the first random number\n",
        "random_number1 = random.randint(1, 100)\n",
        "print(f\"The first random number is: {random_number1}\")\n",
        "# Generate the second random number\n",
        "random_number2 = random.randint(1, 100)\n",
        "print(f\"The second random number is: {random_number2}\")\n",
        "actual_product = random_number1 * random_number2\n",
        "#print(f\"The actual product of the two numbers is: {actual_product}\\n\")\n",
        "user_product = int(input(f\"What is the product of {random_number1} and {random_number2}?\\n\"))\n",
        "if user_product == actual_product:\n",
        "    print(\"Correct!\")\n",
        "else:\n",
        "    print(f\"Incorrect.\\nThe correct answer is {actual_product}.\")\n",
        "\n",
        "\n",
        "\n"
      ],
      "execution_count": 49,
      "outputs": [
        {
          "output_type": "stream",
          "name": "stdout",
          "text": [
            "The first random number is: 53\n",
            "The second random number is: 9\n",
            "What is the product of 53 and 9?\n",
            "123\n",
            "Incorrect.\n",
            "The correct answer is 477.\n"
          ]
        }
      ]
    },
    {
      "cell_type": "markdown",
      "source": [
        "Squares of Even/Odd Numbers"
      ],
      "metadata": {
        "id": "jiL5PfqrDU25"
      }
    },
    {
      "cell_type": "code",
      "source": [
        "import random\n",
        "\n",
        "# Generate random number\n",
        "random_number = random.randint(100, 200)\n",
        "print(f\"The random number is: {random_number}\")\n",
        "\n",
        "# Check if the number is even or odd\n",
        "if random_number % 2 == 0:\n",
        "    print(f\"{random_number} is even.\")\n",
        "else:\n",
        "    print(f\"{random_number} is odd.\")\n",
        "square = random_number ** 2\n",
        "print(f\"The square of {random_number} is {square}.\")"
      ],
      "metadata": {
        "colab": {
          "base_uri": "https://localhost:8080/"
        },
        "id": "EtP6kUscDgfs",
        "outputId": "2ce2d77a-1f77-44fc-de8a-befc5f6919a8"
      },
      "execution_count": 55,
      "outputs": [
        {
          "output_type": "stream",
          "name": "stdout",
          "text": [
            "The random number is: 131\n",
            "131 is odd.\n",
            "The square of 131 is 17161.\n"
          ]
        }
      ]
    },
    {
      "cell_type": "markdown",
      "source": [
        "Word Counter"
      ],
      "metadata": {
        "id": "gC5aGeNFFJwl"
      }
    },
    {
      "cell_type": "code",
      "source": [
        "from collections import Counter\n",
        "\n",
        "word_str = input(\"Enter the string: \")\n",
        "word_list = word_str.split()\n",
        "print(f\"The list of words is: {word_list}\")\n",
        "word_count = len(word_list)\n",
        "print(f\"The number of words in the string is: {word_count}\")\n",
        "count_distinct = len(set(word_list))\n",
        "print(f\"The number of distinct words in the string is: {count_distinct}\")\n",
        "# Print the word counts\n",
        "word_counts = Counter(word_list)\n",
        "print(\"\\nWord counts:\")\n",
        "for word, count in word_counts.items():\n",
        "    print(f\"'{word}': {count}\")"
      ],
      "metadata": {
        "colab": {
          "base_uri": "https://localhost:8080/"
        },
        "id": "E_4t2ZXeFHkK",
        "outputId": "9972354f-8083-4f61-c29b-f26906fb3873"
      },
      "execution_count": 60,
      "outputs": [
        {
          "output_type": "stream",
          "name": "stdout",
          "text": [
            "Enter the string: This is a sample text. This text will be used to demonstrate the word counter\n",
            "The list of words is: ['This', 'is', 'a', 'sample', 'text.', 'This', 'text', 'will', 'be', 'used', 'to', 'demonstrate', 'the', 'word', 'counter']\n",
            "The number of words in the string is: 15\n",
            "The number of distinct words in the string is: 14\n",
            "\n",
            "Word counts:\n",
            "'This': 2\n",
            "'is': 1\n",
            "'a': 1\n",
            "'sample': 1\n",
            "'text.': 1\n",
            "'text': 1\n",
            "'will': 1\n",
            "'be': 1\n",
            "'used': 1\n",
            "'to': 1\n",
            "'demonstrate': 1\n",
            "'the': 1\n",
            "'word': 1\n",
            "'counter': 1\n"
          ]
        }
      ]
    },
    {
      "cell_type": "markdown",
      "source": [
        "Check for Palindrome"
      ],
      "metadata": {
        "id": "W-rG8MudG3O7"
      }
    },
    {
      "cell_type": "code",
      "source": [
        "#Check for Palindrome\n",
        "word = input(\"Enter the word: \")\n",
        "is_palindrome = word == word[::-1]\n",
        "if is_palindrome:\n",
        "    print(f\"'{word}' is a palindrome.\")\n",
        "else:\n",
        "    print(f\"'{word}' is not a palindrome.\")"
      ],
      "metadata": {
        "colab": {
          "base_uri": "https://localhost:8080/"
        },
        "id": "kLBOgDJUG7cy",
        "outputId": "c847a688-47b2-41df-8171-612766755938"
      },
      "execution_count": 64,
      "outputs": [
        {
          "output_type": "stream",
          "name": "stdout",
          "text": [
            "Enter the word: nitin\n",
            "'nitin' is a palindrome.\n"
          ]
        }
      ]
    }
  ]
}